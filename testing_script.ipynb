{
 "cells": [
  {
   "cell_type": "code",
   "execution_count": 1,
   "metadata": {},
   "outputs": [
    {
     "name": "stdout",
     "output_type": "stream",
     "text": [
      "DMC 0 's output:  [2 2 2]\n",
      "DMC 1 's output:  [-2 -2 -2]\n",
      "final output:  [-2 -2 -2]\n",
      "[[0, [1], 'PID', 25, [1, 0, 0], [20], [1, 1, 1]], [1, [], 'random', 10, [0, 10, 21], [10], array([2, 2, 2])]]\n",
      "[[0, [1], 'PID', -100, [1, 0, 0], [20], [1, 1, 1]], [1, [], 'random', 10, [0, 10, 21], [10], array([2, 2, 2])]]\n"
     ]
    }
   ],
   "source": [
    "from structure import DMC_structure\n",
    "\n",
    "# reminder on DMC array:\n",
    "# [DMC number, list that it points to, function type, goal, constraints, parameter, DMC input]\n",
    "# LAST ONE IS INPUT NOTTTT OUTPUT!!!!!\n",
    "# DMC output is what iterate() returns!!!\n",
    "DMCarr = [[0, [1], \"PID\", 25, [1, 0, 0], [20], [1, 1, 1]],\n",
    "          [1, [], \"random\", 10, [0, 10, 21], [10], [5, 20, 100]],\n",
    "          ]\n",
    "\n",
    "struct = DMC_structure(DMCarr)\n",
    "print(\"final output: \", struct.iterate())\n",
    "\n",
    "print(DMCarr)\n",
    "\n",
    "struct.setGoal(0, -100)\n",
    "\n",
    "print(DMCarr)"
   ]
  }
 ],
 "metadata": {
  "kernelspec": {
   "display_name": "base",
   "language": "python",
   "name": "python3"
  },
  "language_info": {
   "codemirror_mode": {
    "name": "ipython",
    "version": 3
   },
   "file_extension": ".py",
   "mimetype": "text/x-python",
   "name": "python",
   "nbconvert_exporter": "python",
   "pygments_lexer": "ipython3",
   "version": "3.9.12"
  }
 },
 "nbformat": 4,
 "nbformat_minor": 2
}
